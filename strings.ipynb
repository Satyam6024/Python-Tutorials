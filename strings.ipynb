{
 "cells": [
  {
   "cell_type": "markdown",
   "metadata": {},
   "source": [
    "## String Data Type"
   ]
  },
  {
   "cell_type": "code",
   "execution_count": null,
   "metadata": {},
   "outputs": [
    {
     "name": "stdout",
     "output_type": "stream",
     "text": [
      "Norwegian Blue\n",
      "w\n"
     ]
    }
   ],
   "source": [
    "#                   1\n",
    "#         012345678901234\n",
    "parrot = \"Norwegian Blue\"\n",
    "print(parrot)\n",
    "print(parrot[3])"
   ]
  },
  {
   "cell_type": "markdown",
   "metadata": {},
   "source": [
    "#### Mini Challenge\n",
    "Add some code to the program, so that it prints out \"we win\".\n",
    "Each character should appear on a separate line.\n",
    "The program should get the characters from the parrot string, using indexing.\n",
    "The w is already printed out, you just need to print the remaining 5 characters.\n",
    "With the text that is already being printed, the output from the program should be:\n",
    "\n",
    "#### Norwegian Blue\n",
    "#### w\n",
    "#### e\n",
    "#### \n",
    "#### w\n",
    "#### i\n",
    "#### n"
   ]
  }
 ],
 "metadata": {
  "kernelspec": {
   "display_name": "base",
   "language": "python",
   "name": "python3"
  },
  "language_info": {
   "codemirror_mode": {
    "name": "ipython",
    "version": 3
   },
   "file_extension": ".py",
   "mimetype": "text/x-python",
   "name": "python",
   "nbconvert_exporter": "python",
   "pygments_lexer": "ipython3",
   "version": "3.12.7"
  }
 },
 "nbformat": 4,
 "nbformat_minor": 2
}
