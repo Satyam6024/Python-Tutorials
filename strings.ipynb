{
 "cells": [
  {
   "cell_type": "markdown",
   "metadata": {},
   "source": [
    "## String Data Type"
   ]
  },
  {
   "cell_type": "code",
   "execution_count": 1,
   "metadata": {},
   "outputs": [
    {
     "name": "stdout",
     "output_type": "stream",
     "text": [
      "Norwegian Blue\n",
      "w\n"
     ]
    }
   ],
   "source": [
    "#                   1\n",
    "#         012345678901234\n",
    "parrot = \"Norwegian Blue\"\n",
    "print(parrot)\n",
    "print(parrot[3])"
   ]
  },
  {
   "cell_type": "markdown",
   "metadata": {},
   "source": [
    "#### Mini Challenge\n",
    "Add some code to the program, so that it prints out \"we win\".\n",
    "Each character should appear on a separate line.\n",
    "The program should get the characters from the parrot string, using indexing.\n",
    "The w is already printed out, you just need to print the remaining 5 characters.\n",
    "With the text that is already being printed, the output from the program should be:\n",
    "\n",
    "#### Norwegian Blue\n",
    "#### w\n",
    "#### e\n",
    "#### \n",
    "#### w\n",
    "#### i\n",
    "#### n"
   ]
  },
  {
   "cell_type": "markdown",
   "metadata": {},
   "source": [
    "### Negative Indexing in Strings"
   ]
  },
  {
   "cell_type": "code",
   "execution_count": null,
   "metadata": {},
   "outputs": [
    {
     "name": "stdout",
     "output_type": "stream",
     "text": [
      "e\n",
      "N\n"
     ]
    }
   ],
   "source": [
    "#                   1\n",
    "#         012345678901234\n",
    "\n",
    "#             1\n",
    "#         43210987654321(-1)\n",
    "parrot = \"Norwegian Blue\"\n",
    "print(parrot[-1])\n",
    "print(parrot[-14])"
   ]
  },
  {
   "cell_type": "code",
   "execution_count": 3,
   "metadata": {},
   "outputs": [
    {
     "name": "stdout",
     "output_type": "stream",
     "text": [
      "w\n",
      "e\n",
      " \n",
      "w\n",
      "i\n",
      "n\n"
     ]
    }
   ],
   "source": [
    "print(parrot[-11])\n",
    "print(parrot[-10])\n",
    "print(parrot[-5])\n",
    "print(parrot[-11])\n",
    "print(parrot[-8])\n",
    "print(parrot[-6])"
   ]
  },
  {
   "cell_type": "code",
   "execution_count": 5,
   "metadata": {},
   "outputs": [
    {
     "name": "stdout",
     "output_type": "stream",
     "text": [
      "w\n",
      "e\n",
      " \n",
      "w\n",
      "i\n",
      "n\n"
     ]
    }
   ],
   "source": [
    "print(parrot[3 - 14])\n",
    "print(parrot[4 - 14])\n",
    "print(parrot[9 - 14])\n",
    "print(parrot[3 - 14])\n",
    "print(parrot[6 - 14])\n",
    "print(parrot[8 - 14])"
   ]
  },
  {
   "cell_type": "markdown",
   "metadata": {},
   "source": [
    "### Slicing"
   ]
  },
  {
   "cell_type": "code",
   "execution_count": null,
   "metadata": {},
   "outputs": [
    {
     "name": "stdout",
     "output_type": "stream",
     "text": [
      "Norweg\n",
      "we\n",
      "Norwegian\n",
      "Norwegian\n",
      "Blue\n",
      "Blue\n"
     ]
    }
   ],
   "source": [
    "#                   1\n",
    "#         012345678901234\n",
    "parrot = \"Norwegian Blue\"\n",
    "\n",
    "print(parrot[0:6])  # Norweg (from 0 up to but not including 6)\n",
    "print(parrot[3:5])  # we (from 3 up to but not including 5)\n",
    "print(parrot[0:9])  # Norwegian (from 0 up to but not including 9)\n",
    "print(parrot[:9])  # Norwegian (from 0 up to but not including 9 - same as above)\n",
    "print(parrot[10:14])  # Blue (from 10 up to but not including 14)\n",
    "print(parrot[10:])  # Blue (from 10 up to the end)"
   ]
  },
  {
   "cell_type": "code",
   "execution_count": 13,
   "metadata": {},
   "outputs": [
    {
     "name": "stdout",
     "output_type": "stream",
     "text": [
      "Norweg\n",
      "ian Blue\n",
      "\n",
      "Norwegian Blue\n"
     ]
    }
   ],
   "source": [
    "print(parrot[:6])\n",
    "print(parrot[6:])\n",
    "print()\n",
    "\n",
    "print(parrot[:6] + parrot[6:])"
   ]
  },
  {
   "cell_type": "code",
   "execution_count": 14,
   "metadata": {},
   "outputs": [
    {
     "name": "stdout",
     "output_type": "stream",
     "text": [
      "Norwegian Blue\n"
     ]
    }
   ],
   "source": [
    "print(parrot[:])"
   ]
  },
  {
   "cell_type": "markdown",
   "metadata": {},
   "source": [
    "### Slicing with Negative Numbers"
   ]
  },
  {
   "cell_type": "code",
   "execution_count": 15,
   "metadata": {},
   "outputs": [
    {
     "name": "stdout",
     "output_type": "stream",
     "text": [
      "Norweg\n",
      "Norweg\n",
      "\n",
      "Bl\n",
      "Bl\n"
     ]
    }
   ],
   "source": [
    "#             1\n",
    "#         43210987654321(-1)\n",
    "parrot = \"Norwegian Blue\"\n",
    "\n",
    "print(parrot[0:6])  # Norweg (from 0 up to but not including 6)\n",
    "print(parrot[-14:-8])  # Norweg (from -14 up to but not including -8)\n",
    "print()\n",
    "print(parrot[-4:-2])  # Bl (from -4 up to but not including -2)\n",
    "print(parrot[-4:12])  # Bl (from -4 up to but not including 12)\n",
    "\n"
   ]
  },
  {
   "cell_type": "markdown",
   "metadata": {},
   "source": [
    "### Using a Step in a Slice"
   ]
  },
  {
   "cell_type": "code",
   "execution_count": 16,
   "metadata": {},
   "outputs": [
    {
     "name": "stdout",
     "output_type": "stream",
     "text": [
      "Nre\n",
      "Nw\n"
     ]
    }
   ],
   "source": [
    "#                   1\n",
    "#         012345678901234\n",
    "parrot = \"Norwegian Blue\"\n",
    "\n",
    "print(parrot[0:6:2])  # Nre (from 0 up to but not including 6 in steps of 2)\n",
    "print(parrot[0:6:3])  # Nw (from 0 up to but not including 6 in steps of 3)"
   ]
  },
  {
   "cell_type": "code",
   "execution_count": null,
   "metadata": {},
   "outputs": [
    {
     "name": "stdout",
     "output_type": "stream",
     "text": [
      ",,, ,,\n"
     ]
    }
   ],
   "source": [
    "number = \"9,223,372,036,854,775,807\"\n",
    "print(number[1::4])  #(from 1 to the end in steps of 4)"
   ]
  },
  {
   "cell_type": "code",
   "execution_count": 18,
   "metadata": {},
   "outputs": [
    {
     "name": "stdout",
     "output_type": "stream",
     "text": [
      ",;: ,;\n"
     ]
    }
   ],
   "source": [
    "number = \"9,223;372:036 854,775;807\"\n",
    "seperators = number[1::4]\n",
    "print(seperators)\n"
   ]
  },
  {
   "cell_type": "code",
   "execution_count": 19,
   "metadata": {},
   "outputs": [
    {
     "name": "stdout",
     "output_type": "stream",
     "text": [
      "[9, 223, 372, 36, 854, 775, 807]\n"
     ]
    }
   ],
   "source": [
    "values = \"\".join(char if char not in seperators else \" \" for char in number).split()\n",
    "print([int(val) for val in values])"
   ]
  },
  {
   "cell_type": "markdown",
   "metadata": {},
   "source": [
    "### Slicing Backwards"
   ]
  },
  {
   "cell_type": "code",
   "execution_count": null,
   "metadata": {},
   "outputs": [
    {
     "name": "stdout",
     "output_type": "stream",
     "text": [
      "zyxwvutsrqponmlkjihgfedcb\n"
     ]
    }
   ],
   "source": [
    "letters = \"abcdefghijklmnopqrstuvwxyz\"\n",
    "backwards = letters[25:0:-1]     # upto but not including 0\n",
    "print(backwards)"
   ]
  },
  {
   "cell_type": "code",
   "execution_count": 21,
   "metadata": {},
   "outputs": [
    {
     "name": "stdout",
     "output_type": "stream",
     "text": [
      "zyxwvutsrqponmlkjihgfedcba\n"
     ]
    }
   ],
   "source": [
    "backwards = letters[25::-1]\n",
    "print(backwards)"
   ]
  },
  {
   "cell_type": "code",
   "execution_count": null,
   "metadata": {},
   "outputs": [
    {
     "name": "stdout",
     "output_type": "stream",
     "text": [
      "zyxwvutsrqponmlkjihgfedcba\n"
     ]
    }
   ],
   "source": [
    "backwards = letters[::-1]      # python idiom is [::-1] to reverse a string\n",
    "print(backwards)"
   ]
  },
  {
   "cell_type": "markdown",
   "metadata": {},
   "source": [
    "### Challenge\n",
    "Using the \"letters\" string from the above, add some code to create the following slices.\n",
    "1. Create a slice that produces the characters \"qpo\".\n",
    "2. Slice the string to produce \"edcba\"\n",
    "3. Slice the string to produce the last 8 characters, in reverse order."
   ]
  },
  {
   "cell_type": "code",
   "execution_count": 28,
   "metadata": {},
   "outputs": [
    {
     "name": "stdout",
     "output_type": "stream",
     "text": [
      "qpo\n"
     ]
    }
   ],
   "source": [
    "letters = \"abcdefghijklmnopqrstuvwxyz\"\n",
    "backwards = letters[16:13:-1]\n",
    "print(backwards)\n"
   ]
  },
  {
   "cell_type": "code",
   "execution_count": 43,
   "metadata": {},
   "outputs": [
    {
     "name": "stdout",
     "output_type": "stream",
     "text": [
      "edcba\n"
     ]
    }
   ],
   "source": [
    "backwards = letters[-22::-1]\n",
    "print(backwards)"
   ]
  },
  {
   "cell_type": "code",
   "execution_count": 50,
   "metadata": {},
   "outputs": [
    {
     "name": "stdout",
     "output_type": "stream",
     "text": [
      "zyxwvuts\n"
     ]
    }
   ],
   "source": [
    "backwards = letters[:-9:-1]\n",
    "print(backwards)"
   ]
  },
  {
   "cell_type": "code",
   "execution_count": null,
   "metadata": {},
   "outputs": [
    {
     "name": "stdout",
     "output_type": "stream",
     "text": [
      "qpo\n",
      "edcba\n",
      "zyxwvuts\n"
     ]
    }
   ],
   "source": [
    "# another way to reverse a string\n",
    "print(letters[16:13:-1])\n",
    "print(letters[4::-1])\n",
    "print(letters[:-9:-1])"
   ]
  },
  {
   "cell_type": "markdown",
   "metadata": {},
   "source": [
    "### String Operators\n",
    "Python 3 has 5 types of Sequence\n",
    "1. The string type\n",
    "2. list\n",
    "3. tuple\n",
    "4. range\n",
    "5. bytes and bytearray\n",
    "\n",
    "A sequence is an ordered set of items."
   ]
  },
  {
   "cell_type": "markdown",
   "metadata": {},
   "source": [
    "### String Replacement Fields"
   ]
  },
  {
   "cell_type": "code",
   "execution_count": 52,
   "metadata": {},
   "outputs": [
    {
     "name": "stdout",
     "output_type": "stream",
     "text": [
      "My age is 24 years\n"
     ]
    }
   ],
   "source": [
    "age = 24\n",
    "print(\"My age is \" + str(age) + \" years\")"
   ]
  },
  {
   "cell_type": "code",
   "execution_count": null,
   "metadata": {},
   "outputs": [
    {
     "name": "stdout",
     "output_type": "stream",
     "text": [
      "My age is 24 years\n"
     ]
    }
   ],
   "source": [
    "print(\"My age is {0} years\".format(age))    # replacement field {0} is replaced by the value of age variable"
   ]
  },
  {
   "cell_type": "code",
   "execution_count": 54,
   "metadata": {},
   "outputs": [
    {
     "name": "stdout",
     "output_type": "stream",
     "text": [
      "There are 31 days in Jan, Mar, May, Jul, Aug, Oct, Dec\n"
     ]
    }
   ],
   "source": [
    "print(\"There are {0} days in {1}, {2}, {3}, {4}, {5}, {6}, {7}\".format(31, \"Jan\", \"Mar\", \"May\", \"Jul\", \"Aug\", \"Oct\", \"Dec\"))"
   ]
  },
  {
   "cell_type": "code",
   "execution_count": 55,
   "metadata": {},
   "outputs": [
    {
     "name": "stdout",
     "output_type": "stream",
     "text": [
      "Jan: 31, Feb: 28, Mar: 31, Apr: 30, May: 31, Jun: 30, Jul: 31, Aug: 31, Sep: 30, Oct: 31, Nov: 30, Dec: 31\n"
     ]
    }
   ],
   "source": [
    "print(\"Jan: {2}, Feb: {0}, Mar: {2}, Apr: {1}, May: {2}, Jun: {1}, Jul: {2}, Aug: {2}, Sep: {1}, Oct: {2}, Nov: {1}, Dec: {2}\".format(28, 30, 31))"
   ]
  },
  {
   "cell_type": "markdown",
   "metadata": {},
   "source": [
    "### String Formating"
   ]
  },
  {
   "cell_type": "code",
   "execution_count": 1,
   "metadata": {},
   "outputs": [
    {
     "name": "stdout",
     "output_type": "stream",
     "text": [
      "No. 1 squared is 1 and cubed is 1\n",
      "No. 2 squared is 4 and cubed is 8\n",
      "No. 3 squared is 9 and cubed is 27\n",
      "No. 4 squared is 16 and cubed is 64\n",
      "No. 5 squared is 25 and cubed is 125\n",
      "No. 6 squared is 36 and cubed is 216\n",
      "No. 7 squared is 49 and cubed is 343\n",
      "No. 8 squared is 64 and cubed is 512\n",
      "No. 9 squared is 81 and cubed is 729\n",
      "No. 10 squared is 100 and cubed is 1000\n",
      "No. 11 squared is 121 and cubed is 1331\n"
     ]
    }
   ],
   "source": [
    "for i in range(1, 12):\n",
    "    print(\"No. {0} squared is {1} and cubed is {2}\".format(i, i ** 2, i ** 3))"
   ]
  },
  {
   "cell_type": "code",
   "execution_count": 2,
   "metadata": {},
   "outputs": [
    {
     "name": "stdout",
     "output_type": "stream",
     "text": [
      "No.  1 squared is   1 and cubed is    1\n",
      "No.  2 squared is   4 and cubed is    8\n",
      "No.  3 squared is   9 and cubed is   27\n",
      "No.  4 squared is  16 and cubed is   64\n",
      "No.  5 squared is  25 and cubed is  125\n",
      "No.  6 squared is  36 and cubed is  216\n",
      "No.  7 squared is  49 and cubed is  343\n",
      "No.  8 squared is  64 and cubed is  512\n",
      "No.  9 squared is  81 and cubed is  729\n",
      "No. 10 squared is 100 and cubed is 1000\n",
      "No. 11 squared is 121 and cubed is 1331\n"
     ]
    }
   ],
   "source": [
    "for i in range(1, 12):\n",
    "    print(\"No. {0:2} squared is {1:3} and cubed is {2:4}\".format(i, i ** 2, i ** 3))"
   ]
  },
  {
   "cell_type": "code",
   "execution_count": 3,
   "metadata": {},
   "outputs": [
    {
     "name": "stdout",
     "output_type": "stream",
     "text": [
      "No.  1 squared is 1   and cubed is 1   \n",
      "No.  2 squared is 4   and cubed is 8   \n",
      "No.  3 squared is 9   and cubed is 27  \n",
      "No.  4 squared is 16  and cubed is 64  \n",
      "No.  5 squared is 25  and cubed is 125 \n",
      "No.  6 squared is 36  and cubed is 216 \n",
      "No.  7 squared is 49  and cubed is 343 \n",
      "No.  8 squared is 64  and cubed is 512 \n",
      "No.  9 squared is 81  and cubed is 729 \n",
      "No. 10 squared is 100 and cubed is 1000\n",
      "No. 11 squared is 121 and cubed is 1331\n"
     ]
    }
   ],
   "source": [
    "for i in range(1, 12):\n",
    "    print(\"No. {0:2} squared is {1:<3} and cubed is {2:<4}\".format(i, i ** 2, i ** 3))"
   ]
  },
  {
   "cell_type": "code",
   "execution_count": 4,
   "metadata": {},
   "outputs": [
    {
     "name": "stdout",
     "output_type": "stream",
     "text": [
      "No.  1 squared is 1   and cubed is  1  \n",
      "No.  2 squared is 4   and cubed is  8  \n",
      "No.  3 squared is 9   and cubed is  27 \n",
      "No.  4 squared is 16  and cubed is  64 \n",
      "No.  5 squared is 25  and cubed is 125 \n",
      "No.  6 squared is 36  and cubed is 216 \n",
      "No.  7 squared is 49  and cubed is 343 \n",
      "No.  8 squared is 64  and cubed is 512 \n",
      "No.  9 squared is 81  and cubed is 729 \n",
      "No. 10 squared is 100 and cubed is 1000\n",
      "No. 11 squared is 121 and cubed is 1331\n"
     ]
    }
   ],
   "source": [
    "for i in range(1, 12):\n",
    "    print(\"No. {0:2} squared is {1:<3} and cubed is {2:^4}\".format(i, i ** 2, i ** 3))"
   ]
  },
  {
   "cell_type": "code",
   "execution_count": 6,
   "metadata": {},
   "outputs": [
    {
     "name": "stdout",
     "output_type": "stream",
     "text": [
      "Pi is approximately 3.142857142857143\n",
      "Pi is approximately     3.142857\n",
      "Pi is approximately 3.14285714285714279370154144999105483293533325195312\n",
      "Pi is approximately 3.14285714285714279370154144999105483293533325195312\n",
      "Pi is approximately           3.14285714285714279370154144999105483293533325195312\n",
      "Pi is approximately                     3.14285714285714279370154144999105483293533325195312\n"
     ]
    }
   ],
   "source": [
    "print(\"Pi is approximately {0:12}\".format(22 / 7))  # default is 15 characters wide\n",
    "print(\"Pi is approximately {0:12f}\".format(22 / 7))  # default is 15 characters wide with 6 decimal places\n",
    "print(\"Pi is approximately {0:12.50f}\".format(22 / 7))  # default is 15 characters wide with 50 decimal places\n",
    "print(\"Pi is approximately {0:52.50f}\".format(22 / 7))  # default is 15 characters wide with 50 decimal places\n",
    "print(\"Pi is approximately {0:62.50f}\".format(22 / 7))  # default is 15 characters wide with 50 decimal places\n",
    "print(\"Pi is approximately {0:72.50f}\".format(22 / 7))  # default is 15 characters wide with 50 decimal places"
   ]
  },
  {
   "cell_type": "markdown",
   "metadata": {},
   "source": [
    "### f-strings"
   ]
  },
  {
   "cell_type": "code",
   "execution_count": null,
   "metadata": {},
   "outputs": [
    {
     "name": "stdout",
     "output_type": "stream",
     "text": [
      "Hellosatyam\n",
      "Hello satyam!\n",
      "24\n",
      "<class 'str'>\n",
      "<class 'int'>\n"
     ]
    }
   ],
   "source": [
    "greeting = \"Hello\"\n",
    "name =input(\"Please enter your name \")\n",
    "print(greeting + name)\n",
    "\n",
    "# if we want a space after the name, we can add that too\n",
    "print(greeting + ' ' + name + '!')\n",
    "\n",
    "age = 24\n",
    "print(age)\n",
    "\n",
    "print(type(greeting))\n",
    "print(type(age))"
   ]
  },
  {
   "cell_type": "code",
   "execution_count": 2,
   "metadata": {},
   "outputs": [
    {
     "ename": "TypeError",
     "evalue": "can only concatenate str (not \"int\") to str",
     "output_type": "error",
     "traceback": [
      "\u001b[1;31m---------------------------------------------------------------------------\u001b[0m",
      "\u001b[1;31mTypeError\u001b[0m                                 Traceback (most recent call last)",
      "Cell \u001b[1;32mIn[2], line 1\u001b[0m\n\u001b[1;32m----> 1\u001b[0m \u001b[38;5;28mprint\u001b[39m(\u001b[43mname\u001b[49m\u001b[43m \u001b[49m\u001b[38;5;241;43m+\u001b[39;49m\u001b[43m \u001b[49m\u001b[38;5;124;43m'\u001b[39;49m\u001b[38;5;124;43m is \u001b[39;49m\u001b[38;5;124;43m'\u001b[39;49m\u001b[43m \u001b[49m\u001b[38;5;241;43m+\u001b[39;49m\u001b[43m \u001b[49m\u001b[43m(\u001b[49m\u001b[43mage\u001b[49m\u001b[43m)\u001b[49m \u001b[38;5;241m+\u001b[39m \u001b[38;5;124m'\u001b[39m\u001b[38;5;124m years old\u001b[39m\u001b[38;5;124m'\u001b[39m)\n",
      "\u001b[1;31mTypeError\u001b[0m: can only concatenate str (not \"int\") to str"
     ]
    }
   ],
   "source": [
    "print(name + ' is ' + (age) + ' years old')"
   ]
  },
  {
   "cell_type": "code",
   "execution_count": null,
   "metadata": {},
   "outputs": [
    {
     "name": "stdout",
     "output_type": "stream",
     "text": [
      "satyam is 24 years old\n"
     ]
    }
   ],
   "source": [
    "print(name + f' is {age} years old')  # f-string"
   ]
  },
  {
   "cell_type": "code",
   "execution_count": 5,
   "metadata": {},
   "outputs": [
    {
     "name": "stdout",
     "output_type": "stream",
     "text": [
      "Pi is approximately 3.14285714285714279370154144999105483293533325195312\n"
     ]
    }
   ],
   "source": [
    "print(f'Pi is approximately {22 / 7:12.50f}')"
   ]
  },
  {
   "cell_type": "code",
   "execution_count": 6,
   "metadata": {},
   "outputs": [
    {
     "name": "stdout",
     "output_type": "stream",
     "text": [
      "Pi is approximately 3.14285714285714279370154144999105483293533325195312\n"
     ]
    }
   ],
   "source": [
    "pi = 22 / 7\n",
    "print(f'Pi is approximately {pi:12.50f}')"
   ]
  }
 ],
 "metadata": {
  "kernelspec": {
   "display_name": "base",
   "language": "python",
   "name": "python3"
  },
  "language_info": {
   "codemirror_mode": {
    "name": "ipython",
    "version": 3
   },
   "file_extension": ".py",
   "mimetype": "text/x-python",
   "name": "python",
   "nbconvert_exporter": "python",
   "pygments_lexer": "ipython3",
   "version": "3.12.7"
  }
 },
 "nbformat": 4,
 "nbformat_minor": 2
}
