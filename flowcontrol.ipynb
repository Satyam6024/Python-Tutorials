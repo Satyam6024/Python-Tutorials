{
 "cells": [
  {
   "cell_type": "markdown",
   "metadata": {},
   "source": [
    "## Flow Control in Python\n",
    "### if - else Statement"
   ]
  },
  {
   "cell_type": "code",
   "execution_count": 1,
   "metadata": {},
   "outputs": [
    {
     "name": "stdout",
     "output_type": "stream",
     "text": [
      "25\n"
     ]
    }
   ],
   "source": [
    "name = input(\"Please enter your name: \")\n",
    "age = int(input(\"How old are you, {0}? \".format(name)))\n",
    "print(age)"
   ]
  },
  {
   "cell_type": "code",
   "execution_count": 2,
   "metadata": {},
   "outputs": [
    {
     "name": "stdout",
     "output_type": "stream",
     "text": [
      "You are old enough to vote\n"
     ]
    }
   ],
   "source": [
    "if age >= 18:\n",
    "    print(\"You are old enough to vote\")"
   ]
  },
  {
   "cell_type": "code",
   "execution_count": 4,
   "metadata": {},
   "outputs": [
    {
     "name": "stdout",
     "output_type": "stream",
     "text": [
      "12\n",
      "Please come back in 6 years\n"
     ]
    }
   ],
   "source": [
    "age = int(input(\"How old are you, {0}? \".format(name)))\n",
    "print(age)\n",
    "if age >= 18:\n",
    "    print(\"You are old enough to vote\")\n",
    "else:\n",
    "    print(\"Please come back in {0} years\".format(18 - age))"
   ]
  },
  {
   "cell_type": "code",
   "execution_count": 6,
   "metadata": {},
   "outputs": [
    {
     "name": "stdout",
     "output_type": "stream",
     "text": [
      "23\n",
      "You are old enough to vote\n",
      "Please put an X in the box\n",
      "You are old enough to vote\n",
      "Please put an X in the box\n"
     ]
    }
   ],
   "source": [
    "age = int(input(\"How old are you, {0}? \".format(name)))\n",
    "print(age)\n",
    "if age >= 18:\n",
    "    print(\"You are old enough to vote\")\n",
    "    print(\"Please put an X in the box\")\n",
    "else:\n",
    "    print(\"Please come back in {0} years\".format(18 - age))\n",
    "\n",
    "    #######################\n",
    "\n",
    "if age < 18:\n",
    "    print(\"Please come back in {0} years\".format(18 - age))\n",
    "else:\n",
    "    print(\"You are old enough to vote\")\n",
    "    print(\"Please put an X in the box\")"
   ]
  },
  {
   "cell_type": "markdown",
   "metadata": {},
   "source": [
    "### elif Statement"
   ]
  },
  {
   "cell_type": "code",
   "execution_count": 8,
   "metadata": {},
   "outputs": [
    {
     "name": "stdout",
     "output_type": "stream",
     "text": [
      "200\n",
      "Sorry, Yoda, you die in Return of the Jedi\n"
     ]
    }
   ],
   "source": [
    "age = int(input(\"How old are you, {0}? \".format(name)))\n",
    "print(age)\n",
    "\n",
    "if age < 18:\n",
    "    print(\"Please come back in {0} years\".format(18 - age))\n",
    "elif age >= 200:\n",
    "    print(\"Sorry, Yoda, you die in Return of the Jedi\")\n",
    "else:\n",
    "    print(\"You are old enough to vote\")\n",
    "    print(\"Please put an X in the box\")"
   ]
  }
 ],
 "metadata": {
  "kernelspec": {
   "display_name": "base",
   "language": "python",
   "name": "python3"
  },
  "language_info": {
   "codemirror_mode": {
    "name": "ipython",
    "version": 3
   },
   "file_extension": ".py",
   "mimetype": "text/x-python",
   "name": "python",
   "nbconvert_exporter": "python",
   "pygments_lexer": "ipython3",
   "version": "3.12.7"
  }
 },
 "nbformat": 4,
 "nbformat_minor": 2
}
